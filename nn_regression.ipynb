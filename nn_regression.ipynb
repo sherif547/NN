{
  "nbformat": 4,
  "nbformat_minor": 0,
  "metadata": {
    "colab": {
      "provenance": [],
      "gpuType": "T4",
      "authorship_tag": "ABX9TyODkywt1U2heZOWNV7EyD3d",
      "include_colab_link": true
    },
    "kernelspec": {
      "name": "python3",
      "display_name": "Python 3"
    },
    "language_info": {
      "name": "python"
    },
    "accelerator": "GPU"
  },
  "cells": [
    {
      "cell_type": "markdown",
      "metadata": {
        "id": "view-in-github",
        "colab_type": "text"
      },
      "source": [
        "<a href=\"https://colab.research.google.com/github/sherif547/NN/blob/main/nn_regression.ipynb\" target=\"_parent\"><img src=\"https://colab.research.google.com/assets/colab-badge.svg\" alt=\"Open In Colab\"/></a>"
      ]
    },
    {
      "cell_type": "code",
      "source": [
        "import torch\n",
        "x=torch.arange(0,1,0.02).unsqueeze(dim=1)\n",
        "weigt=0.7\n",
        "bias=0.3\n",
        "y=weigt * x + bias"
      ],
      "metadata": {
        "id": "qQ5DQ3a_N0VG"
      },
      "execution_count": null,
      "outputs": []
    },
    {
      "cell_type": "code",
      "source": [
        "x[:10] ,y[:10]"
      ],
      "metadata": {
        "colab": {
          "base_uri": "https://localhost:8080/"
        },
        "id": "OP6NMlcdQzEM",
        "outputId": "e95c3d7d-f908-49d1-841f-9871ce64b6c8"
      },
      "execution_count": null,
      "outputs": [
        {
          "output_type": "execute_result",
          "data": {
            "text/plain": [
              "(tensor([[0.0000],\n",
              "         [0.0200],\n",
              "         [0.0400],\n",
              "         [0.0600],\n",
              "         [0.0800],\n",
              "         [0.1000],\n",
              "         [0.1200],\n",
              "         [0.1400],\n",
              "         [0.1600],\n",
              "         [0.1800]]),\n",
              " tensor([[0.3000],\n",
              "         [0.3140],\n",
              "         [0.3280],\n",
              "         [0.3420],\n",
              "         [0.3560],\n",
              "         [0.3700],\n",
              "         [0.3840],\n",
              "         [0.3980],\n",
              "         [0.4120],\n",
              "         [0.4260]]))"
            ]
          },
          "metadata": {},
          "execution_count": 45
        }
      ]
    },
    {
      "cell_type": "code",
      "source": [
        "len(x)"
      ],
      "metadata": {
        "colab": {
          "base_uri": "https://localhost:8080/"
        },
        "id": "H69TMPUnSTGg",
        "outputId": "a6ce76e5-9111-4697-d2bb-7f647e8c04a4"
      },
      "execution_count": null,
      "outputs": [
        {
          "output_type": "execute_result",
          "data": {
            "text/plain": [
              "50"
            ]
          },
          "metadata": {},
          "execution_count": 46
        }
      ]
    },
    {
      "cell_type": "code",
      "source": [
        "#split data"
      ],
      "metadata": {
        "id": "XdOwahZnQ9jv"
      },
      "execution_count": null,
      "outputs": []
    },
    {
      "cell_type": "code",
      "source": [
        "train_split=int(.8*len(x))\n",
        "x_train,y_train=x[:train_split],y[:train_split]\n",
        "x_test,y_test=x[train_split:],y[train_split:]"
      ],
      "metadata": {
        "id": "QNr88JZ6Q9pj"
      },
      "execution_count": null,
      "outputs": []
    },
    {
      "cell_type": "code",
      "source": [
        "train_split"
      ],
      "metadata": {
        "colab": {
          "base_uri": "https://localhost:8080/"
        },
        "id": "VkrffCnhSWO8",
        "outputId": "30bc8678-9007-4949-87a1-0de2f40077f2"
      },
      "execution_count": null,
      "outputs": [
        {
          "output_type": "execute_result",
          "data": {
            "text/plain": [
              "40"
            ]
          },
          "metadata": {},
          "execution_count": 49
        }
      ]
    },
    {
      "cell_type": "code",
      "execution_count": null,
      "metadata": {
        "id": "G-WgsWJmNodO"
      },
      "outputs": [],
      "source": [
        "\n",
        "from torch import nn\n",
        "\n",
        "## create linear reg model class\n",
        "class LinearRegressionModel(nn.Module):\n",
        "    def __init__(self):\n",
        "        super().__init__()\n",
        "        self.weights = nn.Parameter(torch.randn(1, requires_grad=True, dtype=torch.float))\n",
        "        self.bias = nn.Parameter(torch.randn(1, requires_grad=True, dtype=torch.float))\n",
        "\n",
        "    def forward(self, x: torch.Tensor) -> torch.Tensor:\n",
        "        return self.weights * x + self.bias  # Use self.bias\n",
        "\n"
      ]
    },
    {
      "cell_type": "code",
      "source": [
        "# Create an instance of the LinearRegressionModel class\n",
        "model = LinearRegressionModel()\n",
        "\n",
        "# Access the parameters of the model\n",
        "torch.manual_seed(42)\n",
        "params = list(model.parameters())\n",
        "print(params)"
      ],
      "metadata": {
        "colab": {
          "base_uri": "https://localhost:8080/"
        },
        "id": "YWnIKgiKNufc",
        "outputId": "19d9cf65-d1b9-4bce-eabe-8c0f92f55ec8"
      },
      "execution_count": null,
      "outputs": [
        {
          "output_type": "stream",
          "name": "stdout",
          "text": [
            "[Parameter containing:\n",
            "tensor([0.4740], requires_grad=True), Parameter containing:\n",
            "tensor([0.1978], requires_grad=True)]\n"
          ]
        }
      ]
    },
    {
      "cell_type": "code",
      "source": [
        "model.state_dict()"
      ],
      "metadata": {
        "colab": {
          "base_uri": "https://localhost:8080/"
        },
        "id": "13DvEU37NxEK",
        "outputId": "cfa44416-9dea-4a7b-df92-0b213ac95fb0"
      },
      "execution_count": null,
      "outputs": [
        {
          "output_type": "execute_result",
          "data": {
            "text/plain": [
              "OrderedDict([('weights', tensor([0.4740])), ('bias', tensor([0.1978]))])"
            ]
          },
          "metadata": {},
          "execution_count": 52
        }
      ]
    },
    {
      "cell_type": "code",
      "source": [
        " with torch.inference_mode():\n",
        "     y_pre=model(x_test)\n"
      ],
      "metadata": {
        "id": "qWI8Uxq4PH_F"
      },
      "execution_count": null,
      "outputs": []
    },
    {
      "cell_type": "code",
      "source": [
        "y_pre"
      ],
      "metadata": {
        "colab": {
          "base_uri": "https://localhost:8080/"
        },
        "id": "z4ppMtwOPVZP",
        "outputId": "4afeef07-e35f-4f52-9b4d-7c2968af8052"
      },
      "execution_count": null,
      "outputs": [
        {
          "output_type": "execute_result",
          "data": {
            "text/plain": [
              "tensor([[0.5770],\n",
              "        [0.5865],\n",
              "        [0.5960],\n",
              "        [0.6055],\n",
              "        [0.6149],\n",
              "        [0.6244],\n",
              "        [0.6339],\n",
              "        [0.6434],\n",
              "        [0.6529],\n",
              "        [0.6623]])"
            ]
          },
          "metadata": {},
          "execution_count": 54
        }
      ]
    },
    {
      "cell_type": "code",
      "source": [
        "y_test"
      ],
      "metadata": {
        "colab": {
          "base_uri": "https://localhost:8080/"
        },
        "id": "71s15fY5R6fI",
        "outputId": "d43b5244-7a1b-49c5-f457-a04f03bdb2fa"
      },
      "execution_count": null,
      "outputs": [
        {
          "output_type": "execute_result",
          "data": {
            "text/plain": [
              "tensor([[0.8600],\n",
              "        [0.8740],\n",
              "        [0.8880],\n",
              "        [0.9020],\n",
              "        [0.9160],\n",
              "        [0.9300],\n",
              "        [0.9440],\n",
              "        [0.9580],\n",
              "        [0.9720],\n",
              "        [0.9860]])"
            ]
          },
          "metadata": {},
          "execution_count": 55
        }
      ]
    },
    {
      "cell_type": "code",
      "source": [
        "#setup loss funn\n",
        "loss_fn=nn.L1Loss()\n",
        "#set up optimizer\n",
        "optimizer=torch.optim.SGD(params=model.parameters(),\n",
        "                          lr=0.001 #learning rate = the most important hyper parm\n",
        "                          )\n",
        "#loss func calc the error and optimizer (gradient descent ) upgrade the parameters"
      ],
      "metadata": {
        "id": "N6lcsXXWSM2L"
      },
      "execution_count": null,
      "outputs": []
    },
    {
      "cell_type": "code",
      "source": [
        "#loop forward propagation\n",
        "epochs=1000\n",
        "#loop through data\n",
        "for epoch in range(epochs):\n",
        "  model.train() #set all parameters and train model\n",
        "\n",
        "  #1.forward pass\n",
        "  y_pred=model(x_train)\n",
        "\n",
        "  #calc loss fun\n",
        "  loss=loss_fn(y_pred,y_train)\n",
        " # print('loss ',loss)\n",
        "\n",
        "  #optimizer zero grad\n",
        "  optimizer.zero_grad()\n",
        "\n",
        "  #back propegation with respt parameters\n",
        "  loss.backward()\n",
        "\n",
        "  #step the optimizer (perform gradient)\n",
        "  optimizer.step()\n",
        "\n",
        "\n",
        "  model.eval() #turn off gradient tracking\n",
        "\n",
        "\n",
        "  with torch.inference_mode():\n",
        "    #do forward pass\n",
        "    test_pred=model(x_test)\n",
        "\n",
        "    #calc loss\n",
        "    test_loss=loss_fn(test_pred,y_test)\n",
        "\n",
        "   # print what happen\n",
        "  if epoch %10==0:\n",
        "    print('epoch: ',epoch, 'loss',loss,'test loss' ,test_loss)\n",
        "    print( model.state_dict())"
      ],
      "metadata": {
        "colab": {
          "base_uri": "https://localhost:8080/"
        },
        "id": "bVAGMs73bxKa",
        "outputId": "918c0fad-d6e3-43be-c092-ccf17c2d3faf"
      },
      "execution_count": null,
      "outputs": [
        {
          "output_type": "stream",
          "name": "stdout",
          "text": [
            "epoch:  0 loss tensor(0.1903, grad_fn=<MeanBackward0>) test loss tensor(0.3020)\n",
            "OrderedDict([('weights', tensor([0.4744])), ('bias', tensor([0.1988]))])\n",
            "epoch:  10 loss tensor(0.1788, grad_fn=<MeanBackward0>) test loss tensor(0.2885)\n",
            "OrderedDict([('weights', tensor([0.4783])), ('bias', tensor([0.2088]))])\n",
            "epoch:  20 loss tensor(0.1673, grad_fn=<MeanBackward0>) test loss tensor(0.2750)\n",
            "OrderedDict([('weights', tensor([0.4822])), ('bias', tensor([0.2188]))])\n",
            "epoch:  30 loss tensor(0.1558, grad_fn=<MeanBackward0>) test loss tensor(0.2616)\n",
            "OrderedDict([('weights', tensor([0.4861])), ('bias', tensor([0.2288]))])\n",
            "epoch:  40 loss tensor(0.1443, grad_fn=<MeanBackward0>) test loss tensor(0.2481)\n",
            "OrderedDict([('weights', tensor([0.4900])), ('bias', tensor([0.2388]))])\n",
            "epoch:  50 loss tensor(0.1327, grad_fn=<MeanBackward0>) test loss tensor(0.2346)\n",
            "OrderedDict([('weights', tensor([0.4939])), ('bias', tensor([0.2488]))])\n",
            "epoch:  60 loss tensor(0.1212, grad_fn=<MeanBackward0>) test loss tensor(0.2211)\n",
            "OrderedDict([('weights', tensor([0.4978])), ('bias', tensor([0.2588]))])\n",
            "epoch:  70 loss tensor(0.1097, grad_fn=<MeanBackward0>) test loss tensor(0.2077)\n",
            "OrderedDict([('weights', tensor([0.5017])), ('bias', tensor([0.2688]))])\n",
            "epoch:  80 loss tensor(0.0982, grad_fn=<MeanBackward0>) test loss tensor(0.1942)\n",
            "OrderedDict([('weights', tensor([0.5056])), ('bias', tensor([0.2788]))])\n",
            "epoch:  90 loss tensor(0.0866, grad_fn=<MeanBackward0>) test loss tensor(0.1807)\n",
            "OrderedDict([('weights', tensor([0.5095])), ('bias', tensor([0.2888]))])\n",
            "epoch:  100 loss tensor(0.0751, grad_fn=<MeanBackward0>) test loss tensor(0.1673)\n",
            "OrderedDict([('weights', tensor([0.5134])), ('bias', tensor([0.2988]))])\n",
            "epoch:  110 loss tensor(0.0647, grad_fn=<MeanBackward0>) test loss tensor(0.1544)\n",
            "OrderedDict([('weights', tensor([0.5173])), ('bias', tensor([0.3082]))])\n",
            "epoch:  120 loss tensor(0.0564, grad_fn=<MeanBackward0>) test loss tensor(0.1429)\n",
            "OrderedDict([('weights', tensor([0.5212])), ('bias', tensor([0.3163]))])\n",
            "epoch:  130 loss tensor(0.0500, grad_fn=<MeanBackward0>) test loss tensor(0.1325)\n",
            "OrderedDict([('weights', tensor([0.5249])), ('bias', tensor([0.3233]))])\n",
            "epoch:  140 loss tensor(0.0450, grad_fn=<MeanBackward0>) test loss tensor(0.1233)\n",
            "OrderedDict([('weights', tensor([0.5285])), ('bias', tensor([0.3293]))])\n",
            "epoch:  150 loss tensor(0.0411, grad_fn=<MeanBackward0>) test loss tensor(0.1151)\n",
            "OrderedDict([('weights', tensor([0.5320])), ('bias', tensor([0.3344]))])\n",
            "epoch:  160 loss tensor(0.0382, grad_fn=<MeanBackward0>) test loss tensor(0.1080)\n",
            "OrderedDict([('weights', tensor([0.5353])), ('bias', tensor([0.3386]))])\n",
            "epoch:  170 loss tensor(0.0358, grad_fn=<MeanBackward0>) test loss tensor(0.1016)\n",
            "OrderedDict([('weights', tensor([0.5384])), ('bias', tensor([0.3422]))])\n",
            "epoch:  180 loss tensor(0.0341, grad_fn=<MeanBackward0>) test loss tensor(0.0960)\n",
            "OrderedDict([('weights', tensor([0.5414])), ('bias', tensor([0.3451]))])\n",
            "epoch:  190 loss tensor(0.0327, grad_fn=<MeanBackward0>) test loss tensor(0.0911)\n",
            "OrderedDict([('weights', tensor([0.5442])), ('bias', tensor([0.3475]))])\n",
            "epoch:  200 loss tensor(0.0316, grad_fn=<MeanBackward0>) test loss tensor(0.0868)\n",
            "OrderedDict([('weights', tensor([0.5469])), ('bias', tensor([0.3495]))])\n",
            "epoch:  210 loss tensor(0.0307, grad_fn=<MeanBackward0>) test loss tensor(0.0830)\n",
            "OrderedDict([('weights', tensor([0.5494])), ('bias', tensor([0.3510]))])\n",
            "epoch:  220 loss tensor(0.0300, grad_fn=<MeanBackward0>) test loss tensor(0.0798)\n",
            "OrderedDict([('weights', tensor([0.5518])), ('bias', tensor([0.3520]))])\n",
            "epoch:  230 loss tensor(0.0293, grad_fn=<MeanBackward0>) test loss tensor(0.0769)\n",
            "OrderedDict([('weights', tensor([0.5542])), ('bias', tensor([0.3529]))])\n",
            "epoch:  240 loss tensor(0.0288, grad_fn=<MeanBackward0>) test loss tensor(0.0744)\n",
            "OrderedDict([('weights', tensor([0.5564])), ('bias', tensor([0.3534]))])\n",
            "epoch:  250 loss tensor(0.0283, grad_fn=<MeanBackward0>) test loss tensor(0.0720)\n",
            "OrderedDict([('weights', tensor([0.5585])), ('bias', tensor([0.3539]))])\n",
            "epoch:  260 loss tensor(0.0279, grad_fn=<MeanBackward0>) test loss tensor(0.0702)\n",
            "OrderedDict([('weights', tensor([0.5605])), ('bias', tensor([0.3539]))])\n",
            "epoch:  270 loss tensor(0.0275, grad_fn=<MeanBackward0>) test loss tensor(0.0685)\n",
            "OrderedDict([('weights', tensor([0.5625])), ('bias', tensor([0.3539]))])\n",
            "epoch:  280 loss tensor(0.0271, grad_fn=<MeanBackward0>) test loss tensor(0.0667)\n",
            "OrderedDict([('weights', tensor([0.5645])), ('bias', tensor([0.3539]))])\n",
            "epoch:  290 loss tensor(0.0268, grad_fn=<MeanBackward0>) test loss tensor(0.0653)\n",
            "OrderedDict([('weights', tensor([0.5664])), ('bias', tensor([0.3536]))])\n",
            "epoch:  300 loss tensor(0.0264, grad_fn=<MeanBackward0>) test loss tensor(0.0642)\n",
            "OrderedDict([('weights', tensor([0.5682])), ('bias', tensor([0.3531]))])\n",
            "epoch:  310 loss tensor(0.0261, grad_fn=<MeanBackward0>) test loss tensor(0.0631)\n",
            "OrderedDict([('weights', tensor([0.5700])), ('bias', tensor([0.3526]))])\n",
            "epoch:  320 loss tensor(0.0257, grad_fn=<MeanBackward0>) test loss tensor(0.0620)\n",
            "OrderedDict([('weights', tensor([0.5718])), ('bias', tensor([0.3521]))])\n",
            "epoch:  330 loss tensor(0.0254, grad_fn=<MeanBackward0>) test loss tensor(0.0609)\n",
            "OrderedDict([('weights', tensor([0.5736])), ('bias', tensor([0.3516]))])\n",
            "epoch:  340 loss tensor(0.0250, grad_fn=<MeanBackward0>) test loss tensor(0.0598)\n",
            "OrderedDict([('weights', tensor([0.5754])), ('bias', tensor([0.3511]))])\n",
            "epoch:  350 loss tensor(0.0247, grad_fn=<MeanBackward0>) test loss tensor(0.0587)\n",
            "OrderedDict([('weights', tensor([0.5772])), ('bias', tensor([0.3506]))])\n",
            "epoch:  360 loss tensor(0.0243, grad_fn=<MeanBackward0>) test loss tensor(0.0576)\n",
            "OrderedDict([('weights', tensor([0.5790])), ('bias', tensor([0.3501]))])\n",
            "epoch:  370 loss tensor(0.0240, grad_fn=<MeanBackward0>) test loss tensor(0.0565)\n",
            "OrderedDict([('weights', tensor([0.5808])), ('bias', tensor([0.3496]))])\n",
            "epoch:  380 loss tensor(0.0236, grad_fn=<MeanBackward0>) test loss tensor(0.0554)\n",
            "OrderedDict([('weights', tensor([0.5826])), ('bias', tensor([0.3491]))])\n",
            "epoch:  390 loss tensor(0.0233, grad_fn=<MeanBackward0>) test loss tensor(0.0544)\n",
            "OrderedDict([('weights', tensor([0.5844])), ('bias', tensor([0.3485]))])\n",
            "epoch:  400 loss tensor(0.0229, grad_fn=<MeanBackward0>) test loss tensor(0.0535)\n",
            "OrderedDict([('weights', tensor([0.5861])), ('bias', tensor([0.3478]))])\n",
            "epoch:  410 loss tensor(0.0226, grad_fn=<MeanBackward0>) test loss tensor(0.0527)\n",
            "OrderedDict([('weights', tensor([0.5878])), ('bias', tensor([0.3471]))])\n",
            "epoch:  420 loss tensor(0.0222, grad_fn=<MeanBackward0>) test loss tensor(0.0519)\n",
            "OrderedDict([('weights', tensor([0.5895])), ('bias', tensor([0.3464]))])\n",
            "epoch:  430 loss tensor(0.0219, grad_fn=<MeanBackward0>) test loss tensor(0.0511)\n",
            "OrderedDict([('weights', tensor([0.5912])), ('bias', tensor([0.3457]))])\n",
            "epoch:  440 loss tensor(0.0216, grad_fn=<MeanBackward0>) test loss tensor(0.0503)\n",
            "OrderedDict([('weights', tensor([0.5929])), ('bias', tensor([0.3450]))])\n",
            "epoch:  450 loss tensor(0.0212, grad_fn=<MeanBackward0>) test loss tensor(0.0495)\n",
            "OrderedDict([('weights', tensor([0.5946])), ('bias', tensor([0.3442]))])\n",
            "epoch:  460 loss tensor(0.0209, grad_fn=<MeanBackward0>) test loss tensor(0.0487)\n",
            "OrderedDict([('weights', tensor([0.5964])), ('bias', tensor([0.3435]))])\n",
            "epoch:  470 loss tensor(0.0205, grad_fn=<MeanBackward0>) test loss tensor(0.0479)\n",
            "OrderedDict([('weights', tensor([0.5981])), ('bias', tensor([0.3428]))])\n",
            "epoch:  480 loss tensor(0.0202, grad_fn=<MeanBackward0>) test loss tensor(0.0471)\n",
            "OrderedDict([('weights', tensor([0.5998])), ('bias', tensor([0.3421]))])\n",
            "epoch:  490 loss tensor(0.0198, grad_fn=<MeanBackward0>) test loss tensor(0.0463)\n",
            "OrderedDict([('weights', tensor([0.6015])), ('bias', tensor([0.3414]))])\n",
            "epoch:  500 loss tensor(0.0195, grad_fn=<MeanBackward0>) test loss tensor(0.0455)\n",
            "OrderedDict([('weights', tensor([0.6032])), ('bias', tensor([0.3406]))])\n",
            "epoch:  510 loss tensor(0.0192, grad_fn=<MeanBackward0>) test loss tensor(0.0447)\n",
            "OrderedDict([('weights', tensor([0.6049])), ('bias', tensor([0.3399]))])\n",
            "epoch:  520 loss tensor(0.0188, grad_fn=<MeanBackward0>) test loss tensor(0.0439)\n",
            "OrderedDict([('weights', tensor([0.6066])), ('bias', tensor([0.3392]))])\n",
            "epoch:  530 loss tensor(0.0185, grad_fn=<MeanBackward0>) test loss tensor(0.0431)\n",
            "OrderedDict([('weights', tensor([0.6083])), ('bias', tensor([0.3385]))])\n",
            "epoch:  540 loss tensor(0.0181, grad_fn=<MeanBackward0>) test loss tensor(0.0423)\n",
            "OrderedDict([('weights', tensor([0.6100])), ('bias', tensor([0.3378]))])\n",
            "epoch:  550 loss tensor(0.0178, grad_fn=<MeanBackward0>) test loss tensor(0.0415)\n",
            "OrderedDict([('weights', tensor([0.6117])), ('bias', tensor([0.3371]))])\n",
            "epoch:  560 loss tensor(0.0174, grad_fn=<MeanBackward0>) test loss tensor(0.0407)\n",
            "OrderedDict([('weights', tensor([0.6134])), ('bias', tensor([0.3363]))])\n",
            "epoch:  570 loss tensor(0.0171, grad_fn=<MeanBackward0>) test loss tensor(0.0399)\n",
            "OrderedDict([('weights', tensor([0.6152])), ('bias', tensor([0.3356]))])\n",
            "epoch:  580 loss tensor(0.0167, grad_fn=<MeanBackward0>) test loss tensor(0.0391)\n",
            "OrderedDict([('weights', tensor([0.6169])), ('bias', tensor([0.3349]))])\n",
            "epoch:  590 loss tensor(0.0164, grad_fn=<MeanBackward0>) test loss tensor(0.0383)\n",
            "OrderedDict([('weights', tensor([0.6186])), ('bias', tensor([0.3342]))])\n",
            "epoch:  600 loss tensor(0.0161, grad_fn=<MeanBackward0>) test loss tensor(0.0375)\n",
            "OrderedDict([('weights', tensor([0.6203])), ('bias', tensor([0.3335]))])\n",
            "epoch:  610 loss tensor(0.0157, grad_fn=<MeanBackward0>) test loss tensor(0.0366)\n",
            "OrderedDict([('weights', tensor([0.6220])), ('bias', tensor([0.3328]))])\n",
            "epoch:  620 loss tensor(0.0154, grad_fn=<MeanBackward0>) test loss tensor(0.0359)\n",
            "OrderedDict([('weights', tensor([0.6237])), ('bias', tensor([0.3320]))])\n",
            "epoch:  630 loss tensor(0.0150, grad_fn=<MeanBackward0>) test loss tensor(0.0351)\n",
            "OrderedDict([('weights', tensor([0.6254])), ('bias', tensor([0.3313]))])\n",
            "epoch:  640 loss tensor(0.0147, grad_fn=<MeanBackward0>) test loss tensor(0.0343)\n",
            "OrderedDict([('weights', tensor([0.6271])), ('bias', tensor([0.3306]))])\n",
            "epoch:  650 loss tensor(0.0143, grad_fn=<MeanBackward0>) test loss tensor(0.0335)\n",
            "OrderedDict([('weights', tensor([0.6288])), ('bias', tensor([0.3299]))])\n",
            "epoch:  660 loss tensor(0.0140, grad_fn=<MeanBackward0>) test loss tensor(0.0326)\n",
            "OrderedDict([('weights', tensor([0.6305])), ('bias', tensor([0.3292]))])\n",
            "epoch:  670 loss tensor(0.0137, grad_fn=<MeanBackward0>) test loss tensor(0.0319)\n",
            "OrderedDict([('weights', tensor([0.6322])), ('bias', tensor([0.3284]))])\n",
            "epoch:  680 loss tensor(0.0133, grad_fn=<MeanBackward0>) test loss tensor(0.0311)\n",
            "OrderedDict([('weights', tensor([0.6339])), ('bias', tensor([0.3277]))])\n",
            "epoch:  690 loss tensor(0.0130, grad_fn=<MeanBackward0>) test loss tensor(0.0302)\n",
            "OrderedDict([('weights', tensor([0.6357])), ('bias', tensor([0.3270]))])\n",
            "epoch:  700 loss tensor(0.0126, grad_fn=<MeanBackward0>) test loss tensor(0.0295)\n",
            "OrderedDict([('weights', tensor([0.6374])), ('bias', tensor([0.3263]))])\n",
            "epoch:  710 loss tensor(0.0123, grad_fn=<MeanBackward0>) test loss tensor(0.0286)\n",
            "OrderedDict([('weights', tensor([0.6391])), ('bias', tensor([0.3256]))])\n",
            "epoch:  720 loss tensor(0.0119, grad_fn=<MeanBackward0>) test loss tensor(0.0278)\n",
            "OrderedDict([('weights', tensor([0.6408])), ('bias', tensor([0.3249]))])\n",
            "epoch:  730 loss tensor(0.0116, grad_fn=<MeanBackward0>) test loss tensor(0.0271)\n",
            "OrderedDict([('weights', tensor([0.6425])), ('bias', tensor([0.3241]))])\n",
            "epoch:  740 loss tensor(0.0113, grad_fn=<MeanBackward0>) test loss tensor(0.0262)\n",
            "OrderedDict([('weights', tensor([0.6442])), ('bias', tensor([0.3234]))])\n",
            "epoch:  750 loss tensor(0.0109, grad_fn=<MeanBackward0>) test loss tensor(0.0254)\n",
            "OrderedDict([('weights', tensor([0.6459])), ('bias', tensor([0.3227]))])\n",
            "epoch:  760 loss tensor(0.0106, grad_fn=<MeanBackward0>) test loss tensor(0.0246)\n",
            "OrderedDict([('weights', tensor([0.6476])), ('bias', tensor([0.3220]))])\n",
            "epoch:  770 loss tensor(0.0102, grad_fn=<MeanBackward0>) test loss tensor(0.0238)\n",
            "OrderedDict([('weights', tensor([0.6493])), ('bias', tensor([0.3213]))])\n",
            "epoch:  780 loss tensor(0.0099, grad_fn=<MeanBackward0>) test loss tensor(0.0230)\n",
            "OrderedDict([('weights', tensor([0.6510])), ('bias', tensor([0.3206]))])\n",
            "epoch:  790 loss tensor(0.0095, grad_fn=<MeanBackward0>) test loss tensor(0.0222)\n",
            "OrderedDict([('weights', tensor([0.6527])), ('bias', tensor([0.3198]))])\n",
            "epoch:  800 loss tensor(0.0092, grad_fn=<MeanBackward0>) test loss tensor(0.0214)\n",
            "OrderedDict([('weights', tensor([0.6545])), ('bias', tensor([0.3191]))])\n",
            "epoch:  810 loss tensor(0.0088, grad_fn=<MeanBackward0>) test loss tensor(0.0206)\n",
            "OrderedDict([('weights', tensor([0.6561])), ('bias', tensor([0.3184]))])\n",
            "epoch:  820 loss tensor(0.0085, grad_fn=<MeanBackward0>) test loss tensor(0.0198)\n",
            "OrderedDict([('weights', tensor([0.6579])), ('bias', tensor([0.3177]))])\n",
            "epoch:  830 loss tensor(0.0082, grad_fn=<MeanBackward0>) test loss tensor(0.0190)\n",
            "OrderedDict([('weights', tensor([0.6596])), ('bias', tensor([0.3170]))])\n",
            "epoch:  840 loss tensor(0.0078, grad_fn=<MeanBackward0>) test loss tensor(0.0182)\n",
            "OrderedDict([('weights', tensor([0.6613])), ('bias', tensor([0.3162]))])\n",
            "epoch:  850 loss tensor(0.0075, grad_fn=<MeanBackward0>) test loss tensor(0.0174)\n",
            "OrderedDict([('weights', tensor([0.6630])), ('bias', tensor([0.3155]))])\n",
            "epoch:  860 loss tensor(0.0071, grad_fn=<MeanBackward0>) test loss tensor(0.0166)\n",
            "OrderedDict([('weights', tensor([0.6647])), ('bias', tensor([0.3148]))])\n",
            "epoch:  870 loss tensor(0.0068, grad_fn=<MeanBackward0>) test loss tensor(0.0158)\n",
            "OrderedDict([('weights', tensor([0.6664])), ('bias', tensor([0.3141]))])\n",
            "epoch:  880 loss tensor(0.0064, grad_fn=<MeanBackward0>) test loss tensor(0.0150)\n",
            "OrderedDict([('weights', tensor([0.6681])), ('bias', tensor([0.3134]))])\n",
            "epoch:  890 loss tensor(0.0061, grad_fn=<MeanBackward0>) test loss tensor(0.0142)\n",
            "OrderedDict([('weights', tensor([0.6698])), ('bias', tensor([0.3127]))])\n",
            "epoch:  900 loss tensor(0.0058, grad_fn=<MeanBackward0>) test loss tensor(0.0134)\n",
            "OrderedDict([('weights', tensor([0.6715])), ('bias', tensor([0.3119]))])\n",
            "epoch:  910 loss tensor(0.0054, grad_fn=<MeanBackward0>) test loss tensor(0.0126)\n",
            "OrderedDict([('weights', tensor([0.6732])), ('bias', tensor([0.3112]))])\n",
            "epoch:  920 loss tensor(0.0051, grad_fn=<MeanBackward0>) test loss tensor(0.0117)\n",
            "OrderedDict([('weights', tensor([0.6750])), ('bias', tensor([0.3105]))])\n",
            "epoch:  930 loss tensor(0.0047, grad_fn=<MeanBackward0>) test loss tensor(0.0110)\n",
            "OrderedDict([('weights', tensor([0.6767])), ('bias', tensor([0.3098]))])\n",
            "epoch:  940 loss tensor(0.0044, grad_fn=<MeanBackward0>) test loss tensor(0.0102)\n",
            "OrderedDict([('weights', tensor([0.6784])), ('bias', tensor([0.3091]))])\n",
            "epoch:  950 loss tensor(0.0040, grad_fn=<MeanBackward0>) test loss tensor(0.0093)\n",
            "OrderedDict([('weights', tensor([0.6801])), ('bias', tensor([0.3084]))])\n",
            "epoch:  960 loss tensor(0.0037, grad_fn=<MeanBackward0>) test loss tensor(0.0086)\n",
            "OrderedDict([('weights', tensor([0.6818])), ('bias', tensor([0.3076]))])\n",
            "epoch:  970 loss tensor(0.0034, grad_fn=<MeanBackward0>) test loss tensor(0.0077)\n",
            "OrderedDict([('weights', tensor([0.6835])), ('bias', tensor([0.3069]))])\n",
            "epoch:  980 loss tensor(0.0030, grad_fn=<MeanBackward0>) test loss tensor(0.0070)\n",
            "OrderedDict([('weights', tensor([0.6852])), ('bias', tensor([0.3062]))])\n",
            "epoch:  990 loss tensor(0.0027, grad_fn=<MeanBackward0>) test loss tensor(0.0062)\n",
            "OrderedDict([('weights', tensor([0.6869])), ('bias', tensor([0.3055]))])\n"
          ]
        }
      ]
    },
    {
      "cell_type": "code",
      "source": [
        "weigt,bias"
      ],
      "metadata": {
        "colab": {
          "base_uri": "https://localhost:8080/"
        },
        "id": "uL_JAYD-Sutc",
        "outputId": "c9b23222-1e4d-4ff7-8d83-54f398dbbfee"
      },
      "execution_count": null,
      "outputs": [
        {
          "output_type": "execute_result",
          "data": {
            "text/plain": [
              "(0.7, 0.3)"
            ]
          },
          "metadata": {},
          "execution_count": 58
        }
      ]
    },
    {
      "cell_type": "code",
      "source": [
        "model.state_dict()"
      ],
      "metadata": {
        "colab": {
          "base_uri": "https://localhost:8080/"
        },
        "id": "vGPyOqFSdF33",
        "outputId": "4f3b788a-1a27-459d-cd7d-8679a659631d"
      },
      "execution_count": null,
      "outputs": [
        {
          "output_type": "execute_result",
          "data": {
            "text/plain": [
              "OrderedDict([('weights', tensor([0.6884])), ('bias', tensor([0.3048]))])"
            ]
          },
          "metadata": {},
          "execution_count": 59
        }
      ]
    },
    {
      "cell_type": "code",
      "source": [
        "   y_predict=model(x_test)"
      ],
      "metadata": {
        "id": "zQBmW_fbdGrl"
      },
      "execution_count": null,
      "outputs": []
    },
    {
      "cell_type": "code",
      "source": [
        "from IPython.utils import path\n",
        "from pathlib import Path\n",
        "\n",
        "#1.creat e a path\n",
        "model_path=Path('model0')\n",
        "model_path.mkdir(parents=True,exist_ok=True)\n",
        "\n",
        "#2.create model save path\n",
        "model_name='01 pytorch model.pth'\n",
        "model_save_path=model_path/model_name\n",
        "\n",
        "model_save_path"
      ],
      "metadata": {
        "colab": {
          "base_uri": "https://localhost:8080/"
        },
        "id": "uYYaI12ToSFU",
        "outputId": "a1b4abf4-545a-4dbf-a104-bf262d6fdd97"
      },
      "execution_count": null,
      "outputs": [
        {
          "output_type": "execute_result",
          "data": {
            "text/plain": [
              "PosixPath('model0/01 pytorch model.pth')"
            ]
          },
          "metadata": {},
          "execution_count": 61
        }
      ]
    },
    {
      "cell_type": "code",
      "source": [
        "torch.save(obj=model.state_dict(),\n",
        "           f=model_save_path)"
      ],
      "metadata": {
        "id": "F-ikAwvvpaZi"
      },
      "execution_count": null,
      "outputs": []
    },
    {
      "cell_type": "code",
      "source": [
        "\n"
      ],
      "metadata": {
        "id": "Jn8ybQVFqNRc"
      },
      "execution_count": null,
      "outputs": []
    },
    {
      "cell_type": "code",
      "source": [
        "#to load model we shod have instance of the class\n",
        "loaded_model=LinearRegressionModel()\n",
        "#load save state dict\n",
        "loaded_model.load_state_dict(torch.load(f=model_save_path))"
      ],
      "metadata": {
        "colab": {
          "base_uri": "https://localhost:8080/"
        },
        "id": "UWp4TfO9syZ-",
        "outputId": "66517ee4-ba4e-4edd-8efa-1cdbf7208697"
      },
      "execution_count": null,
      "outputs": [
        {
          "output_type": "execute_result",
          "data": {
            "text/plain": [
              "<All keys matched successfully>"
            ]
          },
          "metadata": {},
          "execution_count": 63
        }
      ]
    },
    {
      "cell_type": "code",
      "source": [
        "loaded_model.state_dict()"
      ],
      "metadata": {
        "colab": {
          "base_uri": "https://localhost:8080/"
        },
        "id": "o5HvYx4JtEDw",
        "outputId": "e12b6852-1f6d-47b2-8c4a-35556681eba6"
      },
      "execution_count": null,
      "outputs": [
        {
          "output_type": "execute_result",
          "data": {
            "text/plain": [
              "OrderedDict([('weights', tensor([0.6884])), ('bias', tensor([0.3048]))])"
            ]
          },
          "metadata": {},
          "execution_count": 64
        }
      ]
    },
    {
      "cell_type": "code",
      "source": [
        "#make prediction\n",
        "loaded_model.eval()\n",
        "with torch.inference_mode():\n",
        "  loaded_model_pred=loaded_model(x_test)\n",
        "loaded_model_pred"
      ],
      "metadata": {
        "colab": {
          "base_uri": "https://localhost:8080/"
        },
        "id": "oYG51iAdtgKQ",
        "outputId": "552453db-c88a-458b-c7d8-12ddf8d50622"
      },
      "execution_count": null,
      "outputs": [
        {
          "output_type": "execute_result",
          "data": {
            "text/plain": [
              "tensor([[0.8556],\n",
              "        [0.8694],\n",
              "        [0.8831],\n",
              "        [0.8969],\n",
              "        [0.9107],\n",
              "        [0.9244],\n",
              "        [0.9382],\n",
              "        [0.9520],\n",
              "        [0.9657],\n",
              "        [0.9795]])"
            ]
          },
          "metadata": {},
          "execution_count": 65
        }
      ]
    },
    {
      "cell_type": "code",
      "source": [
        "model(x_test)"
      ],
      "metadata": {
        "colab": {
          "base_uri": "https://localhost:8080/"
        },
        "id": "bBYdXyUvuHAl",
        "outputId": "4de84637-9efb-4691-e3ae-d056b4e08ff9"
      },
      "execution_count": null,
      "outputs": [
        {
          "output_type": "execute_result",
          "data": {
            "text/plain": [
              "tensor([[0.8556],\n",
              "        [0.8694],\n",
              "        [0.8831],\n",
              "        [0.8969],\n",
              "        [0.9107],\n",
              "        [0.9244],\n",
              "        [0.9382],\n",
              "        [0.9520],\n",
              "        [0.9657],\n",
              "        [0.9795]], grad_fn=<AddBackward0>)"
            ]
          },
          "metadata": {},
          "execution_count": 66
        }
      ]
    },
    {
      "cell_type": "markdown",
      "source": [
        "DATA"
      ],
      "metadata": {
        "id": "y0PXpD3TwB91"
      }
    },
    {
      "cell_type": "code",
      "source": [
        "device='cuda' if torch.cuda.is_available() else 'cpu'\n",
        "print('using device ',device)"
      ],
      "metadata": {
        "colab": {
          "base_uri": "https://localhost:8080/"
        },
        "id": "U9Iet-3xuX9N",
        "outputId": "5cd8765f-30ce-4926-f20b-6cefd315a440"
      },
      "execution_count": null,
      "outputs": [
        {
          "output_type": "stream",
          "name": "stdout",
          "text": [
            "using device  cuda\n"
          ]
        }
      ]
    },
    {
      "cell_type": "code",
      "source": [
        "!nvidia-smi"
      ],
      "metadata": {
        "colab": {
          "base_uri": "https://localhost:8080/"
        },
        "id": "oT_MviXNwsU8",
        "outputId": "33c6822d-7baa-4070-8c7a-ce975167c227"
      },
      "execution_count": null,
      "outputs": [
        {
          "output_type": "stream",
          "name": "stdout",
          "text": [
            "Tue Sep 12 10:24:09 2023       \n",
            "+-----------------------------------------------------------------------------+\n",
            "| NVIDIA-SMI 525.105.17   Driver Version: 525.105.17   CUDA Version: 12.0     |\n",
            "|-------------------------------+----------------------+----------------------+\n",
            "| GPU  Name        Persistence-M| Bus-Id        Disp.A | Volatile Uncorr. ECC |\n",
            "| Fan  Temp  Perf  Pwr:Usage/Cap|         Memory-Usage | GPU-Util  Compute M. |\n",
            "|                               |                      |               MIG M. |\n",
            "|===============================+======================+======================|\n",
            "|   0  Tesla T4            Off  | 00000000:00:04.0 Off |                    0 |\n",
            "| N/A   42C    P8    10W /  70W |      3MiB / 15360MiB |      0%      Default |\n",
            "|                               |                      |                  N/A |\n",
            "+-------------------------------+----------------------+----------------------+\n",
            "                                                                               \n",
            "+-----------------------------------------------------------------------------+\n",
            "| Processes:                                                                  |\n",
            "|  GPU   GI   CI        PID   Type   Process name                  GPU Memory |\n",
            "|        ID   ID                                                   Usage      |\n",
            "|=============================================================================|\n",
            "|  No running processes found                                                 |\n",
            "+-----------------------------------------------------------------------------+\n"
          ]
        }
      ]
    },
    {
      "cell_type": "code",
      "source": [
        "\n"
      ],
      "metadata": {
        "id": "DziDQO-Zw7JY"
      },
      "execution_count": null,
      "outputs": []
    },
    {
      "cell_type": "code",
      "source": [
        "import torch\n",
        "import torch.nn as nn\n",
        "\n",
        "class LinearRegressionModelv2(nn.Module):\n",
        "    def __init__(self):\n",
        "        super().__init__()\n",
        "        # Use nn.Linear to create model parameters\n",
        "        self.linear_layer = nn.Linear(in_features=1, out_features=1)\n",
        "\n",
        "    def forward(self, x: torch.Tensor) -> torch.Tensor:\n",
        "        return self.linear_layer(x)\n",
        "\n",
        "# Now you can create an instance of the model\n"
      ],
      "metadata": {
        "id": "QNoIKLL53l4P"
      },
      "execution_count": null,
      "outputs": []
    },
    {
      "cell_type": "code",
      "source": [
        "torch.manual_seed(42)\n",
        "model_01=LinearRegressionModelv2()\n",
        "model_01.state_dict()"
      ],
      "metadata": {
        "colab": {
          "base_uri": "https://localhost:8080/"
        },
        "id": "xKJQm8lk4HXA",
        "outputId": "c9e2d7b0-cb05-4270-80fe-cf272fd172f7"
      },
      "execution_count": null,
      "outputs": [
        {
          "output_type": "execute_result",
          "data": {
            "text/plain": [
              "OrderedDict([('linear_layer.weight', tensor([[0.7645]])),\n",
              "             ('linear_layer.bias', tensor([0.8300]))])"
            ]
          },
          "metadata": {},
          "execution_count": 70
        }
      ]
    },
    {
      "cell_type": "code",
      "source": [
        "loss_fn=nn.L1Loss()\n",
        "\n",
        "optimizer=torch.optim.SGD(params=model_01.parameters(),lr=0.01)"
      ],
      "metadata": {
        "id": "1ofAy91t41Qz"
      },
      "execution_count": null,
      "outputs": []
    },
    {
      "cell_type": "code",
      "source": [
        "#loop forward propagation\n",
        "epochs=1000\n",
        "#loop through data\n",
        "for epoch in range(epochs):\n",
        "  model_01.train() #set all parameters and train model\n",
        "\n",
        "  #1.forward pass\n",
        "  y_pred=model_01(x_train)\n",
        "\n",
        "  #calc loss fun\n",
        "  loss=loss_fn(y_pred,y_train)\n",
        " # print('loss ',loss)\n",
        "\n",
        "  #optimizer zero grad\n",
        "  optimizer.zero_grad()\n",
        "\n",
        "  #back propegation with respt parameters\n",
        "  loss.backward()\n",
        "\n",
        "  #step the optimizer (perform gradient)\n",
        "  optimizer.step()\n",
        "\n",
        "\n",
        "  model.eval() #turn off gradient tracking\n",
        "\n",
        "\n",
        "  with torch.inference_mode():\n",
        "    #do forward pass\n",
        "    test_pred=model(x_test)\n",
        "\n",
        "    #calc loss\n",
        "    test_loss=loss_fn(test_pred,y_test)\n",
        "\n",
        "   # print what happen\n",
        "  if epoch %10==0:\n",
        "    print('epoch: ',epoch, 'loss',loss,'test loss' ,test_loss)\n",
        "    print( model_01.state_dict())"
      ],
      "metadata": {
        "colab": {
          "base_uri": "https://localhost:8080/"
        },
        "id": "uEKScz1v6Bq5",
        "outputId": "63369b6c-b1aa-4c32-862b-a91d741fde02"
      },
      "execution_count": null,
      "outputs": [
        {
          "output_type": "stream",
          "name": "stdout",
          "text": [
            "epoch:  0 loss tensor(0.5552, grad_fn=<MeanBackward0>) test loss tensor(0.0054)\n",
            "OrderedDict([('linear_layer.weight', tensor([[0.7606]])), ('linear_layer.bias', tensor([0.8200]))])\n",
            "epoch:  10 loss tensor(0.4400, grad_fn=<MeanBackward0>) test loss tensor(0.0054)\n",
            "OrderedDict([('linear_layer.weight', tensor([[0.7216]])), ('linear_layer.bias', tensor([0.7200]))])\n",
            "epoch:  20 loss tensor(0.3248, grad_fn=<MeanBackward0>) test loss tensor(0.0054)\n",
            "OrderedDict([('linear_layer.weight', tensor([[0.6826]])), ('linear_layer.bias', tensor([0.6200]))])\n",
            "epoch:  30 loss tensor(0.2095, grad_fn=<MeanBackward0>) test loss tensor(0.0054)\n",
            "OrderedDict([('linear_layer.weight', tensor([[0.6436]])), ('linear_layer.bias', tensor([0.5200]))])\n",
            "epoch:  40 loss tensor(0.0943, grad_fn=<MeanBackward0>) test loss tensor(0.0054)\n",
            "OrderedDict([('linear_layer.weight', tensor([[0.6046]])), ('linear_layer.bias', tensor([0.4200]))])\n",
            "epoch:  50 loss tensor(0.0239, grad_fn=<MeanBackward0>) test loss tensor(0.0054)\n",
            "OrderedDict([('linear_layer.weight', tensor([[0.5872]])), ('linear_layer.bias', tensor([0.3525]))])\n",
            "epoch:  60 loss tensor(0.0200, grad_fn=<MeanBackward0>) test loss tensor(0.0054)\n",
            "OrderedDict([('linear_layer.weight', tensor([[0.6025]])), ('linear_layer.bias', tensor([0.3410]))])\n",
            "epoch:  70 loss tensor(0.0165, grad_fn=<MeanBackward0>) test loss tensor(0.0054)\n",
            "OrderedDict([('linear_layer.weight', tensor([[0.6196]])), ('linear_layer.bias', tensor([0.3340]))])\n",
            "epoch:  80 loss tensor(0.0131, grad_fn=<MeanBackward0>) test loss tensor(0.0054)\n",
            "OrderedDict([('linear_layer.weight', tensor([[0.6366]])), ('linear_layer.bias', tensor([0.3265]))])\n",
            "epoch:  90 loss tensor(0.0097, grad_fn=<MeanBackward0>) test loss tensor(0.0054)\n",
            "OrderedDict([('linear_layer.weight', tensor([[0.6537]])), ('linear_layer.bias', tensor([0.3195]))])\n",
            "epoch:  100 loss tensor(0.0062, grad_fn=<MeanBackward0>) test loss tensor(0.0054)\n",
            "OrderedDict([('linear_layer.weight', tensor([[0.6707]])), ('linear_layer.bias', tensor([0.3120]))])\n",
            "epoch:  110 loss tensor(0.0028, grad_fn=<MeanBackward0>) test loss tensor(0.0054)\n",
            "OrderedDict([('linear_layer.weight', tensor([[0.6878]])), ('linear_layer.bias', tensor([0.3050]))])\n",
            "epoch:  120 loss tensor(0.0013, grad_fn=<MeanBackward0>) test loss tensor(0.0054)\n",
            "OrderedDict([('linear_layer.weight', tensor([[0.6929]])), ('linear_layer.bias', tensor([0.2925]))])\n",
            "epoch:  130 loss tensor(0.0013, grad_fn=<MeanBackward0>) test loss tensor(0.0054)\n",
            "OrderedDict([('linear_layer.weight', tensor([[0.6929]])), ('linear_layer.bias', tensor([0.2925]))])\n",
            "epoch:  140 loss tensor(0.0013, grad_fn=<MeanBackward0>) test loss tensor(0.0054)\n",
            "OrderedDict([('linear_layer.weight', tensor([[0.6929]])), ('linear_layer.bias', tensor([0.2925]))])\n",
            "epoch:  150 loss tensor(0.0013, grad_fn=<MeanBackward0>) test loss tensor(0.0054)\n",
            "OrderedDict([('linear_layer.weight', tensor([[0.6929]])), ('linear_layer.bias', tensor([0.2925]))])\n",
            "epoch:  160 loss tensor(0.0013, grad_fn=<MeanBackward0>) test loss tensor(0.0054)\n",
            "OrderedDict([('linear_layer.weight', tensor([[0.6929]])), ('linear_layer.bias', tensor([0.2925]))])\n",
            "epoch:  170 loss tensor(0.0013, grad_fn=<MeanBackward0>) test loss tensor(0.0054)\n",
            "OrderedDict([('linear_layer.weight', tensor([[0.6929]])), ('linear_layer.bias', tensor([0.2925]))])\n",
            "epoch:  180 loss tensor(0.0013, grad_fn=<MeanBackward0>) test loss tensor(0.0054)\n",
            "OrderedDict([('linear_layer.weight', tensor([[0.6929]])), ('linear_layer.bias', tensor([0.2925]))])\n",
            "epoch:  190 loss tensor(0.0013, grad_fn=<MeanBackward0>) test loss tensor(0.0054)\n",
            "OrderedDict([('linear_layer.weight', tensor([[0.6929]])), ('linear_layer.bias', tensor([0.2925]))])\n",
            "epoch:  200 loss tensor(0.0013, grad_fn=<MeanBackward0>) test loss tensor(0.0054)\n",
            "OrderedDict([('linear_layer.weight', tensor([[0.6929]])), ('linear_layer.bias', tensor([0.2925]))])\n",
            "epoch:  210 loss tensor(0.0013, grad_fn=<MeanBackward0>) test loss tensor(0.0054)\n",
            "OrderedDict([('linear_layer.weight', tensor([[0.6929]])), ('linear_layer.bias', tensor([0.2925]))])\n",
            "epoch:  220 loss tensor(0.0013, grad_fn=<MeanBackward0>) test loss tensor(0.0054)\n",
            "OrderedDict([('linear_layer.weight', tensor([[0.6929]])), ('linear_layer.bias', tensor([0.2925]))])\n",
            "epoch:  230 loss tensor(0.0013, grad_fn=<MeanBackward0>) test loss tensor(0.0054)\n",
            "OrderedDict([('linear_layer.weight', tensor([[0.6929]])), ('linear_layer.bias', tensor([0.2925]))])\n",
            "epoch:  240 loss tensor(0.0013, grad_fn=<MeanBackward0>) test loss tensor(0.0054)\n",
            "OrderedDict([('linear_layer.weight', tensor([[0.6929]])), ('linear_layer.bias', tensor([0.2925]))])\n",
            "epoch:  250 loss tensor(0.0013, grad_fn=<MeanBackward0>) test loss tensor(0.0054)\n",
            "OrderedDict([('linear_layer.weight', tensor([[0.6929]])), ('linear_layer.bias', tensor([0.2925]))])\n",
            "epoch:  260 loss tensor(0.0013, grad_fn=<MeanBackward0>) test loss tensor(0.0054)\n",
            "OrderedDict([('linear_layer.weight', tensor([[0.6929]])), ('linear_layer.bias', tensor([0.2925]))])\n",
            "epoch:  270 loss tensor(0.0013, grad_fn=<MeanBackward0>) test loss tensor(0.0054)\n",
            "OrderedDict([('linear_layer.weight', tensor([[0.6929]])), ('linear_layer.bias', tensor([0.2925]))])\n",
            "epoch:  280 loss tensor(0.0013, grad_fn=<MeanBackward0>) test loss tensor(0.0054)\n",
            "OrderedDict([('linear_layer.weight', tensor([[0.6929]])), ('linear_layer.bias', tensor([0.2925]))])\n",
            "epoch:  290 loss tensor(0.0013, grad_fn=<MeanBackward0>) test loss tensor(0.0054)\n",
            "OrderedDict([('linear_layer.weight', tensor([[0.6929]])), ('linear_layer.bias', tensor([0.2925]))])\n",
            "epoch:  300 loss tensor(0.0013, grad_fn=<MeanBackward0>) test loss tensor(0.0054)\n",
            "OrderedDict([('linear_layer.weight', tensor([[0.6929]])), ('linear_layer.bias', tensor([0.2925]))])\n",
            "epoch:  310 loss tensor(0.0013, grad_fn=<MeanBackward0>) test loss tensor(0.0054)\n",
            "OrderedDict([('linear_layer.weight', tensor([[0.6929]])), ('linear_layer.bias', tensor([0.2925]))])\n",
            "epoch:  320 loss tensor(0.0013, grad_fn=<MeanBackward0>) test loss tensor(0.0054)\n",
            "OrderedDict([('linear_layer.weight', tensor([[0.6929]])), ('linear_layer.bias', tensor([0.2925]))])\n",
            "epoch:  330 loss tensor(0.0013, grad_fn=<MeanBackward0>) test loss tensor(0.0054)\n",
            "OrderedDict([('linear_layer.weight', tensor([[0.6929]])), ('linear_layer.bias', tensor([0.2925]))])\n",
            "epoch:  340 loss tensor(0.0013, grad_fn=<MeanBackward0>) test loss tensor(0.0054)\n",
            "OrderedDict([('linear_layer.weight', tensor([[0.6929]])), ('linear_layer.bias', tensor([0.2925]))])\n",
            "epoch:  350 loss tensor(0.0013, grad_fn=<MeanBackward0>) test loss tensor(0.0054)\n",
            "OrderedDict([('linear_layer.weight', tensor([[0.6929]])), ('linear_layer.bias', tensor([0.2925]))])\n",
            "epoch:  360 loss tensor(0.0013, grad_fn=<MeanBackward0>) test loss tensor(0.0054)\n",
            "OrderedDict([('linear_layer.weight', tensor([[0.6929]])), ('linear_layer.bias', tensor([0.2925]))])\n",
            "epoch:  370 loss tensor(0.0013, grad_fn=<MeanBackward0>) test loss tensor(0.0054)\n",
            "OrderedDict([('linear_layer.weight', tensor([[0.6929]])), ('linear_layer.bias', tensor([0.2925]))])\n",
            "epoch:  380 loss tensor(0.0013, grad_fn=<MeanBackward0>) test loss tensor(0.0054)\n",
            "OrderedDict([('linear_layer.weight', tensor([[0.6929]])), ('linear_layer.bias', tensor([0.2925]))])\n",
            "epoch:  390 loss tensor(0.0013, grad_fn=<MeanBackward0>) test loss tensor(0.0054)\n",
            "OrderedDict([('linear_layer.weight', tensor([[0.6929]])), ('linear_layer.bias', tensor([0.2925]))])\n",
            "epoch:  400 loss tensor(0.0013, grad_fn=<MeanBackward0>) test loss tensor(0.0054)\n",
            "OrderedDict([('linear_layer.weight', tensor([[0.6929]])), ('linear_layer.bias', tensor([0.2925]))])\n",
            "epoch:  410 loss tensor(0.0013, grad_fn=<MeanBackward0>) test loss tensor(0.0054)\n",
            "OrderedDict([('linear_layer.weight', tensor([[0.6929]])), ('linear_layer.bias', tensor([0.2925]))])\n",
            "epoch:  420 loss tensor(0.0013, grad_fn=<MeanBackward0>) test loss tensor(0.0054)\n",
            "OrderedDict([('linear_layer.weight', tensor([[0.6929]])), ('linear_layer.bias', tensor([0.2925]))])\n",
            "epoch:  430 loss tensor(0.0013, grad_fn=<MeanBackward0>) test loss tensor(0.0054)\n",
            "OrderedDict([('linear_layer.weight', tensor([[0.6929]])), ('linear_layer.bias', tensor([0.2925]))])\n",
            "epoch:  440 loss tensor(0.0013, grad_fn=<MeanBackward0>) test loss tensor(0.0054)\n",
            "OrderedDict([('linear_layer.weight', tensor([[0.6929]])), ('linear_layer.bias', tensor([0.2925]))])\n",
            "epoch:  450 loss tensor(0.0013, grad_fn=<MeanBackward0>) test loss tensor(0.0054)\n",
            "OrderedDict([('linear_layer.weight', tensor([[0.6929]])), ('linear_layer.bias', tensor([0.2925]))])\n",
            "epoch:  460 loss tensor(0.0013, grad_fn=<MeanBackward0>) test loss tensor(0.0054)\n",
            "OrderedDict([('linear_layer.weight', tensor([[0.6929]])), ('linear_layer.bias', tensor([0.2925]))])\n",
            "epoch:  470 loss tensor(0.0013, grad_fn=<MeanBackward0>) test loss tensor(0.0054)\n",
            "OrderedDict([('linear_layer.weight', tensor([[0.6929]])), ('linear_layer.bias', tensor([0.2925]))])\n",
            "epoch:  480 loss tensor(0.0013, grad_fn=<MeanBackward0>) test loss tensor(0.0054)\n",
            "OrderedDict([('linear_layer.weight', tensor([[0.6929]])), ('linear_layer.bias', tensor([0.2925]))])\n",
            "epoch:  490 loss tensor(0.0013, grad_fn=<MeanBackward0>) test loss tensor(0.0054)\n",
            "OrderedDict([('linear_layer.weight', tensor([[0.6929]])), ('linear_layer.bias', tensor([0.2925]))])\n",
            "epoch:  500 loss tensor(0.0013, grad_fn=<MeanBackward0>) test loss tensor(0.0054)\n",
            "OrderedDict([('linear_layer.weight', tensor([[0.6929]])), ('linear_layer.bias', tensor([0.2925]))])\n",
            "epoch:  510 loss tensor(0.0013, grad_fn=<MeanBackward0>) test loss tensor(0.0054)\n",
            "OrderedDict([('linear_layer.weight', tensor([[0.6929]])), ('linear_layer.bias', tensor([0.2925]))])\n",
            "epoch:  520 loss tensor(0.0013, grad_fn=<MeanBackward0>) test loss tensor(0.0054)\n",
            "OrderedDict([('linear_layer.weight', tensor([[0.6929]])), ('linear_layer.bias', tensor([0.2925]))])\n",
            "epoch:  530 loss tensor(0.0013, grad_fn=<MeanBackward0>) test loss tensor(0.0054)\n",
            "OrderedDict([('linear_layer.weight', tensor([[0.6929]])), ('linear_layer.bias', tensor([0.2925]))])\n",
            "epoch:  540 loss tensor(0.0013, grad_fn=<MeanBackward0>) test loss tensor(0.0054)\n",
            "OrderedDict([('linear_layer.weight', tensor([[0.6929]])), ('linear_layer.bias', tensor([0.2925]))])\n",
            "epoch:  550 loss tensor(0.0013, grad_fn=<MeanBackward0>) test loss tensor(0.0054)\n",
            "OrderedDict([('linear_layer.weight', tensor([[0.6929]])), ('linear_layer.bias', tensor([0.2925]))])\n",
            "epoch:  560 loss tensor(0.0013, grad_fn=<MeanBackward0>) test loss tensor(0.0054)\n",
            "OrderedDict([('linear_layer.weight', tensor([[0.6929]])), ('linear_layer.bias', tensor([0.2925]))])\n",
            "epoch:  570 loss tensor(0.0013, grad_fn=<MeanBackward0>) test loss tensor(0.0054)\n",
            "OrderedDict([('linear_layer.weight', tensor([[0.6929]])), ('linear_layer.bias', tensor([0.2925]))])\n",
            "epoch:  580 loss tensor(0.0013, grad_fn=<MeanBackward0>) test loss tensor(0.0054)\n",
            "OrderedDict([('linear_layer.weight', tensor([[0.6929]])), ('linear_layer.bias', tensor([0.2925]))])\n",
            "epoch:  590 loss tensor(0.0013, grad_fn=<MeanBackward0>) test loss tensor(0.0054)\n",
            "OrderedDict([('linear_layer.weight', tensor([[0.6929]])), ('linear_layer.bias', tensor([0.2925]))])\n",
            "epoch:  600 loss tensor(0.0013, grad_fn=<MeanBackward0>) test loss tensor(0.0054)\n",
            "OrderedDict([('linear_layer.weight', tensor([[0.6929]])), ('linear_layer.bias', tensor([0.2925]))])\n",
            "epoch:  610 loss tensor(0.0013, grad_fn=<MeanBackward0>) test loss tensor(0.0054)\n",
            "OrderedDict([('linear_layer.weight', tensor([[0.6929]])), ('linear_layer.bias', tensor([0.2925]))])\n",
            "epoch:  620 loss tensor(0.0013, grad_fn=<MeanBackward0>) test loss tensor(0.0054)\n",
            "OrderedDict([('linear_layer.weight', tensor([[0.6929]])), ('linear_layer.bias', tensor([0.2925]))])\n",
            "epoch:  630 loss tensor(0.0013, grad_fn=<MeanBackward0>) test loss tensor(0.0054)\n",
            "OrderedDict([('linear_layer.weight', tensor([[0.6929]])), ('linear_layer.bias', tensor([0.2925]))])\n",
            "epoch:  640 loss tensor(0.0013, grad_fn=<MeanBackward0>) test loss tensor(0.0054)\n",
            "OrderedDict([('linear_layer.weight', tensor([[0.6929]])), ('linear_layer.bias', tensor([0.2925]))])\n",
            "epoch:  650 loss tensor(0.0013, grad_fn=<MeanBackward0>) test loss tensor(0.0054)\n",
            "OrderedDict([('linear_layer.weight', tensor([[0.6929]])), ('linear_layer.bias', tensor([0.2925]))])\n",
            "epoch:  660 loss tensor(0.0013, grad_fn=<MeanBackward0>) test loss tensor(0.0054)\n",
            "OrderedDict([('linear_layer.weight', tensor([[0.6929]])), ('linear_layer.bias', tensor([0.2925]))])\n",
            "epoch:  670 loss tensor(0.0013, grad_fn=<MeanBackward0>) test loss tensor(0.0054)\n",
            "OrderedDict([('linear_layer.weight', tensor([[0.6929]])), ('linear_layer.bias', tensor([0.2925]))])\n",
            "epoch:  680 loss tensor(0.0013, grad_fn=<MeanBackward0>) test loss tensor(0.0054)\n",
            "OrderedDict([('linear_layer.weight', tensor([[0.6929]])), ('linear_layer.bias', tensor([0.2925]))])\n",
            "epoch:  690 loss tensor(0.0013, grad_fn=<MeanBackward0>) test loss tensor(0.0054)\n",
            "OrderedDict([('linear_layer.weight', tensor([[0.6929]])), ('linear_layer.bias', tensor([0.2925]))])\n",
            "epoch:  700 loss tensor(0.0013, grad_fn=<MeanBackward0>) test loss tensor(0.0054)\n",
            "OrderedDict([('linear_layer.weight', tensor([[0.6929]])), ('linear_layer.bias', tensor([0.2925]))])\n",
            "epoch:  710 loss tensor(0.0013, grad_fn=<MeanBackward0>) test loss tensor(0.0054)\n",
            "OrderedDict([('linear_layer.weight', tensor([[0.6929]])), ('linear_layer.bias', tensor([0.2925]))])\n",
            "epoch:  720 loss tensor(0.0013, grad_fn=<MeanBackward0>) test loss tensor(0.0054)\n",
            "OrderedDict([('linear_layer.weight', tensor([[0.6929]])), ('linear_layer.bias', tensor([0.2925]))])\n",
            "epoch:  730 loss tensor(0.0013, grad_fn=<MeanBackward0>) test loss tensor(0.0054)\n",
            "OrderedDict([('linear_layer.weight', tensor([[0.6929]])), ('linear_layer.bias', tensor([0.2925]))])\n",
            "epoch:  740 loss tensor(0.0013, grad_fn=<MeanBackward0>) test loss tensor(0.0054)\n",
            "OrderedDict([('linear_layer.weight', tensor([[0.6929]])), ('linear_layer.bias', tensor([0.2925]))])\n",
            "epoch:  750 loss tensor(0.0013, grad_fn=<MeanBackward0>) test loss tensor(0.0054)\n",
            "OrderedDict([('linear_layer.weight', tensor([[0.6929]])), ('linear_layer.bias', tensor([0.2925]))])\n",
            "epoch:  760 loss tensor(0.0013, grad_fn=<MeanBackward0>) test loss tensor(0.0054)\n",
            "OrderedDict([('linear_layer.weight', tensor([[0.6929]])), ('linear_layer.bias', tensor([0.2925]))])\n",
            "epoch:  770 loss tensor(0.0013, grad_fn=<MeanBackward0>) test loss tensor(0.0054)\n",
            "OrderedDict([('linear_layer.weight', tensor([[0.6929]])), ('linear_layer.bias', tensor([0.2925]))])\n",
            "epoch:  780 loss tensor(0.0013, grad_fn=<MeanBackward0>) test loss tensor(0.0054)\n",
            "OrderedDict([('linear_layer.weight', tensor([[0.6929]])), ('linear_layer.bias', tensor([0.2925]))])\n",
            "epoch:  790 loss tensor(0.0013, grad_fn=<MeanBackward0>) test loss tensor(0.0054)\n",
            "OrderedDict([('linear_layer.weight', tensor([[0.6929]])), ('linear_layer.bias', tensor([0.2925]))])\n",
            "epoch:  800 loss tensor(0.0013, grad_fn=<MeanBackward0>) test loss tensor(0.0054)\n",
            "OrderedDict([('linear_layer.weight', tensor([[0.6929]])), ('linear_layer.bias', tensor([0.2925]))])\n",
            "epoch:  810 loss tensor(0.0013, grad_fn=<MeanBackward0>) test loss tensor(0.0054)\n",
            "OrderedDict([('linear_layer.weight', tensor([[0.6929]])), ('linear_layer.bias', tensor([0.2925]))])\n",
            "epoch:  820 loss tensor(0.0013, grad_fn=<MeanBackward0>) test loss tensor(0.0054)\n",
            "OrderedDict([('linear_layer.weight', tensor([[0.6929]])), ('linear_layer.bias', tensor([0.2925]))])\n",
            "epoch:  830 loss tensor(0.0013, grad_fn=<MeanBackward0>) test loss tensor(0.0054)\n",
            "OrderedDict([('linear_layer.weight', tensor([[0.6929]])), ('linear_layer.bias', tensor([0.2925]))])\n",
            "epoch:  840 loss tensor(0.0013, grad_fn=<MeanBackward0>) test loss tensor(0.0054)\n",
            "OrderedDict([('linear_layer.weight', tensor([[0.6929]])), ('linear_layer.bias', tensor([0.2925]))])\n",
            "epoch:  850 loss tensor(0.0013, grad_fn=<MeanBackward0>) test loss tensor(0.0054)\n",
            "OrderedDict([('linear_layer.weight', tensor([[0.6929]])), ('linear_layer.bias', tensor([0.2925]))])\n",
            "epoch:  860 loss tensor(0.0013, grad_fn=<MeanBackward0>) test loss tensor(0.0054)\n",
            "OrderedDict([('linear_layer.weight', tensor([[0.6929]])), ('linear_layer.bias', tensor([0.2925]))])\n",
            "epoch:  870 loss tensor(0.0013, grad_fn=<MeanBackward0>) test loss tensor(0.0054)\n",
            "OrderedDict([('linear_layer.weight', tensor([[0.6929]])), ('linear_layer.bias', tensor([0.2925]))])\n",
            "epoch:  880 loss tensor(0.0013, grad_fn=<MeanBackward0>) test loss tensor(0.0054)\n",
            "OrderedDict([('linear_layer.weight', tensor([[0.6929]])), ('linear_layer.bias', tensor([0.2925]))])\n",
            "epoch:  890 loss tensor(0.0013, grad_fn=<MeanBackward0>) test loss tensor(0.0054)\n",
            "OrderedDict([('linear_layer.weight', tensor([[0.6929]])), ('linear_layer.bias', tensor([0.2925]))])\n",
            "epoch:  900 loss tensor(0.0013, grad_fn=<MeanBackward0>) test loss tensor(0.0054)\n",
            "OrderedDict([('linear_layer.weight', tensor([[0.6929]])), ('linear_layer.bias', tensor([0.2925]))])\n",
            "epoch:  910 loss tensor(0.0013, grad_fn=<MeanBackward0>) test loss tensor(0.0054)\n",
            "OrderedDict([('linear_layer.weight', tensor([[0.6929]])), ('linear_layer.bias', tensor([0.2925]))])\n",
            "epoch:  920 loss tensor(0.0013, grad_fn=<MeanBackward0>) test loss tensor(0.0054)\n",
            "OrderedDict([('linear_layer.weight', tensor([[0.6929]])), ('linear_layer.bias', tensor([0.2925]))])\n",
            "epoch:  930 loss tensor(0.0013, grad_fn=<MeanBackward0>) test loss tensor(0.0054)\n",
            "OrderedDict([('linear_layer.weight', tensor([[0.6929]])), ('linear_layer.bias', tensor([0.2925]))])\n",
            "epoch:  940 loss tensor(0.0013, grad_fn=<MeanBackward0>) test loss tensor(0.0054)\n",
            "OrderedDict([('linear_layer.weight', tensor([[0.6929]])), ('linear_layer.bias', tensor([0.2925]))])\n",
            "epoch:  950 loss tensor(0.0013, grad_fn=<MeanBackward0>) test loss tensor(0.0054)\n",
            "OrderedDict([('linear_layer.weight', tensor([[0.6929]])), ('linear_layer.bias', tensor([0.2925]))])\n",
            "epoch:  960 loss tensor(0.0013, grad_fn=<MeanBackward0>) test loss tensor(0.0054)\n",
            "OrderedDict([('linear_layer.weight', tensor([[0.6929]])), ('linear_layer.bias', tensor([0.2925]))])\n",
            "epoch:  970 loss tensor(0.0013, grad_fn=<MeanBackward0>) test loss tensor(0.0054)\n",
            "OrderedDict([('linear_layer.weight', tensor([[0.6929]])), ('linear_layer.bias', tensor([0.2925]))])\n",
            "epoch:  980 loss tensor(0.0013, grad_fn=<MeanBackward0>) test loss tensor(0.0054)\n",
            "OrderedDict([('linear_layer.weight', tensor([[0.6929]])), ('linear_layer.bias', tensor([0.2925]))])\n",
            "epoch:  990 loss tensor(0.0013, grad_fn=<MeanBackward0>) test loss tensor(0.0054)\n",
            "OrderedDict([('linear_layer.weight', tensor([[0.6929]])), ('linear_layer.bias', tensor([0.2925]))])\n"
          ]
        }
      ]
    },
    {
      "cell_type": "code",
      "source": [
        "model_01.state_dict()"
      ],
      "metadata": {
        "colab": {
          "base_uri": "https://localhost:8080/"
        },
        "id": "tQoKfcoo6xYw",
        "outputId": "e4a6876b-56e6-4936-f543-ef2199debc00"
      },
      "execution_count": null,
      "outputs": [
        {
          "output_type": "execute_result",
          "data": {
            "text/plain": [
              "OrderedDict([('linear_layer.weight', tensor([[0.6968]])),\n",
              "             ('linear_layer.bias', tensor([0.3025]))])"
            ]
          },
          "metadata": {},
          "execution_count": 73
        }
      ]
    },
    {
      "cell_type": "code",
      "source": [
        "weigt,bias"
      ],
      "metadata": {
        "colab": {
          "base_uri": "https://localhost:8080/"
        },
        "id": "7OWoDqsq7U14",
        "outputId": "c270b0a4-cb0c-4b29-f9ac-3e3c041b484a"
      },
      "execution_count": null,
      "outputs": [
        {
          "output_type": "execute_result",
          "data": {
            "text/plain": [
              "(0.7, 0.3)"
            ]
          },
          "metadata": {},
          "execution_count": 74
        }
      ]
    },
    {
      "cell_type": "code",
      "source": [],
      "metadata": {
        "id": "hFldeO4n7k2H"
      },
      "execution_count": null,
      "outputs": []
    }
  ]
}