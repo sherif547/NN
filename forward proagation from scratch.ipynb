{
 "cells": [
  {
   "cell_type": "code",
   "execution_count": 32,
   "id": "37981fa2",
   "metadata": {},
   "outputs": [],
   "source": [
    "import numpy as np\n",
    "from numpy.random import rand"
   ]
  },
  {
   "cell_type": "code",
   "execution_count": 33,
   "id": "6feb7045",
   "metadata": {},
   "outputs": [],
   "source": [
    "x=np.array(([9,8],[6,3],[9,1],[9,8])) #features"
   ]
  },
  {
   "cell_type": "code",
   "execution_count": 34,
   "id": "b2afeae4",
   "metadata": {},
   "outputs": [
    {
     "data": {
      "text/plain": [
       "array([[9, 8],\n",
       "       [6, 3],\n",
       "       [9, 1],\n",
       "       [9, 8]])"
      ]
     },
     "execution_count": 34,
     "metadata": {},
     "output_type": "execute_result"
    }
   ],
   "source": [
    "x"
   ]
  },
  {
   "cell_type": "code",
   "execution_count": 35,
   "id": "02536624",
   "metadata": {},
   "outputs": [],
   "source": [
    "y=np.array([[0],[1],[1],[0]]) #labels"
   ]
  },
  {
   "cell_type": "code",
   "execution_count": 36,
   "id": "2634b35f",
   "metadata": {},
   "outputs": [
    {
     "data": {
      "text/plain": [
       "array([[0],\n",
       "       [1],\n",
       "       [1],\n",
       "       [0]])"
      ]
     },
     "execution_count": 36,
     "metadata": {},
     "output_type": "execute_result"
    }
   ],
   "source": [
    "y"
   ]
  },
  {
   "cell_type": "code",
   "execution_count": 37,
   "id": "3b950c45",
   "metadata": {},
   "outputs": [],
   "source": [
    "def sigmoid(z) :\n",
    "    return 1/(1+np.exp(-z))\n",
    "    "
   ]
  },
  {
   "cell_type": "code",
   "execution_count": 44,
   "id": "a7f60b1e",
   "metadata": {},
   "outputs": [],
   "source": [
    "class Neaurnetwork:\n",
    "    def __init__(self,x,y,nodes_in_layer1=4,nodes_in_layer2=3,nodes_in_layer3=1):\n",
    "        #define x,y\n",
    "        self.input_in_layer0 = x\n",
    "        self.y=y\n",
    "        \n",
    "        #number of neurons in layer\n",
    "        self.nodes_in_layer1=nodes_in_layer1\n",
    "        self.nodes_in_layer2=nodes_in_layer2\n",
    "        self.nodes_in_layer3=nodes_in_layer3\n",
    "        \n",
    "        #set the weights (theta) metrics\n",
    "        self.theta_in_layer0=np.random.rand(self.input_in_layer0.shape[1]+1,self.nodes_in_layer1)\n",
    "        self.theta_in_layer1=np.random.rand(self.nodes_in_layer1+1,self.nodes_in_layer2)\n",
    "        self.theta_in_layer2=np.random.rand(self.nodes_in_layer2+1,self.nodes_in_layer3)\n",
    "  \n",
    "\n",
    "        \n",
    "    def feedforward(self):\n",
    "        #compute all nodes (a1,a2,a3,a4) in layer 1\n",
    "        self.z1=self.theta_in_layer0[0]+np.dot(self.input_in_layer0,self.theta_in_layer0[1:])\n",
    "        self.layer1=sigmoid(self.z1)\n",
    "        \n",
    "         #compute all nodes (a1,a2,a3) in layer 2\n",
    "        self.z2=self.theta_in_layer1[0]+np.dot(self.layer1,self.theta_in_layer1[1:])\n",
    "        self.layer2=sigmoid(self.z2)\n",
    "        \n",
    "         #compute all nodes (a1,a2,a3) in layer 1\n",
    "        self.z3=self.theta_in_layer2[0]+np.dot(self.layer2,self.theta_in_layer2[1:])\n",
    "        self.layer3=sigmoid(self.z3)\n",
    "        \n",
    "        return self.layer3"
   ]
  },
  {
   "cell_type": "code",
   "execution_count": 45,
   "id": "cad08455",
   "metadata": {},
   "outputs": [],
   "source": [
    "\n",
    "NN=Neaurnetwork(x,y)"
   ]
  },
  {
   "cell_type": "code",
   "execution_count": 46,
   "id": "edc13c82",
   "metadata": {},
   "outputs": [],
   "source": [
    "predict=NN.feedforward()"
   ]
  },
  {
   "cell_type": "code",
   "execution_count": 50,
   "id": "5e061e00",
   "metadata": {},
   "outputs": [
    {
     "name": "stdout",
     "output_type": "stream",
     "text": [
      "actual output :\n",
      "  [[0]\n",
      " [1]\n",
      " [1]\n",
      " [0]]\n"
     ]
    }
   ],
   "source": [
    "print('actual output :\\n ',y)"
   ]
  },
  {
   "cell_type": "code",
   "execution_count": 51,
   "id": "c8c7722c",
   "metadata": {},
   "outputs": [
    {
     "name": "stdout",
     "output_type": "stream",
     "text": [
      "prediction output :\n",
      "  [[0.79859302]\n",
      " [0.7978955 ]\n",
      " [0.79687214]\n",
      " [0.79859302]]\n"
     ]
    }
   ],
   "source": [
    "print('prediction output :\\n ',predict)"
   ]
  },
  {
   "cell_type": "code",
   "execution_count": null,
   "id": "26ceb694",
   "metadata": {},
   "outputs": [],
   "source": []
  }
 ],
 "metadata": {
  "kernelspec": {
   "display_name": "Python 3 (ipykernel)",
   "language": "python",
   "name": "python3"
  },
  "language_info": {
   "codemirror_mode": {
    "name": "ipython",
    "version": 3
   },
   "file_extension": ".py",
   "mimetype": "text/x-python",
   "name": "python",
   "nbconvert_exporter": "python",
   "pygments_lexer": "ipython3",
   "version": "3.11.3"
  }
 },
 "nbformat": 4,
 "nbformat_minor": 5
}
